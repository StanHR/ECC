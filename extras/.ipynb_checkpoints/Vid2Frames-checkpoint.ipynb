{
 "cells": [
  {
   "cell_type": "code",
   "execution_count": 1,
   "metadata": {},
   "outputs": [],
   "source": [
    "def video_to_frames(file_num,input_loc, output_loc):\n",
    "    \"\"\"\n",
    "    Function to extract frames from input video file\n",
    "    and save them as separate frames in an output directory.\n",
    "    Args:\n",
    "        input_loc: Input video file.\n",
    "        output_loc: Output directory to save the frames.\n",
    "    Returns:\n",
    "        None\n",
    "    \"\"\"\n",
    "    import time\n",
    "    import cv2\n",
    "    import os\n",
    "    try:\n",
    "        os.mkdir(output_loc)\n",
    "    except OSError:\n",
    "        pass\n",
    "    # Log the time\n",
    "    time_start = time.time()\n",
    "    # Start capturing the feed\n",
    "    cap = cv2.VideoCapture(input_loc)\n",
    "    # Find the number of frames\n",
    "    video_length = cap.get(cv2.CAP_PROP_FRAME_COUNT) - 1\n",
    "    print (\"Number of frames: \", video_length)\n",
    "    empty_frames = 0\n",
    "    valid_frames = 0\n",
    "    count = 1\n",
    "    print (\"Converting video..\\n\")\n",
    "    # Start converting the video\n",
    "    while cap.isOpened():\n",
    "        # Extract the frame\n",
    "        ret, frame = cap.read()\n",
    "        # Write the results back to output location.\n",
    "        if (count % 200 == 0 and ret):\n",
    "            valid_frames = valid_frames + 1\n",
    "            resized_frame = cv2.resize(frame,(175,140))\n",
    "            cv2.imwrite(output_loc + '/wondwom' + str(i) + \"_%#05d.jpg\" % (count), resized_frame)\n",
    "        if(ret == False):\n",
    "            empty_frames = empty_frames + 1\n",
    "        count = count + 1\n",
    "        # If there are no more frames left\n",
    "        if ((count > (video_length)) or (empty_frames>1)):\n",
    "            # Log the time again\n",
    "            time_end = time.time()\n",
    "            # Release the feed\n",
    "            cap.release()\n",
    "            # Print stats\n",
    "            print (\"Done extracting frames.\\n%d frames found\" % count)\n",
    "            print (\"It took %d seconds forconversion.\" % (time_end-time_start))\n",
    "            print(\"Total Valid Frames : %d \" % (valid_frames))\n",
    "            print(\"Total Empty Frames : %d \" % (empty_frames))\n",
    "            break\n"
   ]
  },
  {
   "cell_type": "code",
   "execution_count": 2,
   "metadata": {},
   "outputs": [
    {
     "name": "stdout",
     "output_type": "stream",
     "text": [
      "Number of frames:  203219.0\n",
      "Converting video..\n",
      "\n",
      "Done extracting frames.\n",
      "203220 frames found\n",
      "It took 495 seconds forconversion.\n",
      "Total Valid Frames : 1016 \n",
      "Total Empty Frames : 0 \n",
      "Video Converted\n"
     ]
    }
   ],
   "source": [
    "\n",
    "i=1\n",
    "vid_path=\"/media/ghost/BA5A944C5A9406F3/Linux Transfers/TV & Movies/Wonder Woman (2017) [YTS.AG]/Wonder.Woman.2017.720p.BluRay.x264-[YTS.AG].mp4\".format(i,i)\n",
    "video_to_frames(i,vid_path,'/media/ghost/BA5A944C5A9406F3/dataset/Negative Dataset')\n",
    "print(\"Video Converted\")\n",
    "#input_video_file_path : Make appr/media/ghost/BA5A944C5A9406F3/Linux Transfers/TV & Movies/The.End.of.the.Fucking.World.S01.1080p.NF.WEBRip.x265.HEVC.6CH-MRNopriate changes\n",
    "#output_folder_path_for_frames : Make appropriate changes\n",
    "\n"
   ]
  },
  {
   "cell_type": "code",
   "execution_count": null,
   "metadata": {},
   "outputs": [],
   "source": []
  },
  {
   "cell_type": "code",
   "execution_count": null,
   "metadata": {},
   "outputs": [],
   "source": []
  },
  {
   "cell_type": "code",
   "execution_count": null,
   "metadata": {},
   "outputs": [],
   "source": []
  },
  {
   "cell_type": "code",
   "execution_count": null,
   "metadata": {},
   "outputs": [],
   "source": []
  }
 ],
 "metadata": {
  "kernelspec": {
   "display_name": "Python 3",
   "language": "python",
   "name": "python3"
  },
  "language_info": {
   "codemirror_mode": {
    "name": "ipython",
    "version": 3
   },
   "file_extension": ".py",
   "mimetype": "text/x-python",
   "name": "python",
   "nbconvert_exporter": "python",
   "pygments_lexer": "ipython3",
   "version": "3.5.4"
  }
 },
 "nbformat": 4,
 "nbformat_minor": 2
}
