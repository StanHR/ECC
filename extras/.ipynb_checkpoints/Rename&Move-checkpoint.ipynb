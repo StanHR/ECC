{
 "cells": [
  {
   "cell_type": "code",
   "execution_count": 1,
   "metadata": {},
   "outputs": [],
   "source": [
    "import os, shutil as sh"
   ]
  },
  {
   "cell_type": "code",
   "execution_count": 2,
   "metadata": {},
   "outputs": [
    {
     "data": {
      "text/plain": [
       "35000"
      ]
     },
     "execution_count": 2,
     "metadata": {},
     "output_type": "execute_result"
    }
   ],
   "source": [
    "source_path = \"/media/ghost/BA5A944C5A9406F3/dataset/positive/\"\n",
    "dest_path = \"/media/ghost/BA5A944C5A9406F3/ecr_data/train/\"\n",
    "\n",
    "p_images = os.listdir(source_path)\n",
    "len(p_images)"
   ]
  },
  {
   "cell_type": "code",
   "execution_count": null,
   "metadata": {},
   "outputs": [],
   "source": [
    "p_images"
   ]
  },
  {
   "cell_type": "code",
   "execution_count": 3,
   "metadata": {},
   "outputs": [],
   "source": [
    "j=0\n",
    "for p in p_images:\n",
    "    os.rename(source_path+p,dest_path+'pos.'+str(j)+'.jpg')\n",
    "    j=j+1  \n",
    "    if j==132877:\n",
    "        break"
   ]
  },
  {
   "cell_type": "code",
   "execution_count": null,
   "metadata": {},
   "outputs": [],
   "source": [
    "i = 15001\n",
    "while i<15024:\n",
    "    sh.copyfile('/media/ghost/BA5A944C5A9406F3/dataset/positive/pos.'+str(i)+'.jpg','/media/ghost/BA5A944C5A9406F3/dataset/pos/pos.'+str(i)+'.jpg')\n",
    "    i=i+1"
   ]
  },
  {
   "cell_type": "code",
   "execution_count": null,
   "metadata": {},
   "outputs": [],
   "source": [
    "for image in p_images:\n",
    "#     if image.split('.')[-3] == 'neg':\n",
    "#         sh.move(\"/media/ghost/BA5A944C5A9406F3/dataset/final_dataset_ecr/old/\"+image, \"/media/ghost/BA5A944C5A9406F3/dataset/final_dataset_ecr/train/neg/\"+image)\n",
    "#     else:\n",
    "#         sh.move(\"/media/ghost/BA5A944C5A9406F3/dataset/final_dataset_ecr/old/\"+image, \"/media/ghost/BA5A944C5A9406F3/dataset/final_dataset_ecr/train/pos/\"+image)\n"
   ]
  },
  {
   "cell_type": "code",
   "execution_count": null,
   "metadata": {},
   "outputs": [],
   "source": [
    "os."
   ]
  }
 ],
 "metadata": {
  "kernelspec": {
   "display_name": "Python 3",
   "language": "python",
   "name": "python3"
  },
  "language_info": {
   "codemirror_mode": {
    "name": "ipython",
    "version": 3
   },
   "file_extension": ".py",
   "mimetype": "text/x-python",
   "name": "python",
   "nbconvert_exporter": "python",
   "pygments_lexer": "ipython3",
   "version": "3.5.4"
  }
 },
 "nbformat": 4,
 "nbformat_minor": 2
}
