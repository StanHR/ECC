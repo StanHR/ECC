{
 "cells": [
  {
   "cell_type": "code",
   "execution_count": 1,
   "metadata": {},
   "outputs": [],
   "source": [
    "import threading\n",
    "import cv2\n",
    "from threading import Thread\n",
    "import math\n",
    "import time\n",
    "import numpy as np\n",
    "import os, random"
   ]
  },
  {
   "cell_type": "code",
   "execution_count": 2,
   "metadata": {},
   "outputs": [],
   "source": [
    "class videoProcessing:\n",
    "    def __init__(self,path):\n",
    "        self.path = path\n",
    "        \n",
    "    def videoFetch(self,thread_id):\n",
    "        path = self.path\n",
    "        img_width = 175\n",
    "        img_height = 150\n",
    "        testing_data = []\n",
    "        start_time = time.time()\n",
    "        cap = cv2.VideoCapture(path)\n",
    "        frame_count = cap.get(cv2.CAP_PROP_FRAME_COUNT) - 1\n",
    "        fragment_size = frame_count/8\n",
    "        init_frame = math.floor(fragment_size*thread_id)\n",
    "        end_frame = math.floor(fragment_size*(thread_id+1)-1)\n",
    "        count = init_frame\n",
    "        cap.set(1,init_frame)\n",
    "        while cap.isOpened():\n",
    "            ret, frame = cap.read()\n",
    "            if(ret):\n",
    "                img = cv2.resize(frame, (img_width,img_height))\n",
    "                img = cv2.cvtColor(img,cv2.COLOR_BGR2GRAY)\n",
    "                img_num = \"%#05d\" % (count+1)\n",
    "                testing_data.append([np.array(img),img_num])\n",
    "            count = count+1\n",
    "            if (count == end_frame):\n",
    "                end_time = time.time()\n",
    "                cap.release()\n",
    "                print (\"{} Done extracting frames.\\n{} frames found\".format(thread_id,end_frame-init_frame))\n",
    "                print (\"It took %d seconds forconversion.\" % (end_time-start_time))\n",
    "                break\n",
    "        np.save('/home/ghost/Desktop/ecc/test_data_{}.npy'.format(thread_id), testing_data)"
   ]
  },
  {
   "cell_type": "code",
   "execution_count": 3,
   "metadata": {},
   "outputs": [],
   "source": [
    "obj1 = videoProcessing(\"/home/ghost/Downloads/Transistos.mp4\")"
   ]
  },
  {
   "cell_type": "code",
   "execution_count": 4,
   "metadata": {},
   "outputs": [],
   "source": [
    "vF_thread1 = Thread(target=obj1.videoFetch,args=(0,))\n",
    "vF_thread2 = Thread(target=obj1.videoFetch,args=(1,))\n",
    "vF_thread3 = Thread(target=obj1.videoFetch,args=(2,))\n",
    "vF_thread4 = Thread(target=obj1.videoFetch,args=(3,))\n",
    "vF_thread5 = Thread(target=obj1.videoFetch,args=(4,))\n",
    "vF_thread6 = Thread(target=obj1.videoFetch,args=(5,))\n",
    "vF_thread7 = Thread(target=obj1.videoFetch,args=(6,))\n",
    "vF_thread8 = Thread(target=obj1.videoFetch,args=(7,))"
   ]
  },
  {
   "cell_type": "code",
   "execution_count": 5,
   "metadata": {},
   "outputs": [
    {
     "name": "stdout",
     "output_type": "stream",
     "text": [
      "6 Done extracting frames.\n",
      "1545 frames found\n",
      "It took 32 seconds forconversion.\n",
      "7 Done extracting frames.\n",
      "1546 frames found\n",
      "It took 33 seconds forconversion.\n",
      "2 Done extracting frames.\n",
      "1545 frames found\n",
      "It took 34 seconds forconversion.\n",
      "3 Done extracting frames.\n",
      "1546 frames found\n",
      "It took 35 seconds forconversion.\n",
      "1 Done extracting frames.\n",
      "1545 frames found\n",
      "It took 35 seconds forconversion.\n",
      "0 Done extracting frames.\n",
      "1545 frames found\n",
      "It took 36 seconds forconversion.\n",
      "5 Done extracting frames.\n",
      "1545 frames found\n",
      "It took 36 seconds forconversion.\n",
      "4 Done extracting frames.\n",
      "1545 frames found\n",
      "It took 36 seconds forconversion.\n"
     ]
    }
   ],
   "source": [
    "vF_thread1.start()\n",
    "vF_thread2.start()\n",
    "vF_thread3.start()\n",
    "vF_thread4.start()\n",
    "vF_thread5.start()\n",
    "vF_thread6.start()\n",
    "vF_thread7.start()\n",
    "vF_thread8.start()"
   ]
  },
  {
   "cell_type": "code",
   "execution_count": null,
   "metadata": {},
   "outputs": [],
   "source": []
  }
 ],
 "metadata": {
  "kernelspec": {
   "display_name": "Python 3",
   "language": "python",
   "name": "python3"
  },
  "language_info": {
   "codemirror_mode": {
    "name": "ipython",
    "version": 3
   },
   "file_extension": ".py",
   "mimetype": "text/x-python",
   "name": "python",
   "nbconvert_exporter": "python",
   "pygments_lexer": "ipython3",
   "version": "3.5.4"
  }
 },
 "nbformat": 4,
 "nbformat_minor": 2
}
